{
  "nbformat": 4,
  "nbformat_minor": 0,
  "metadata": {
    "colab": {
      "provenance": []
    },
    "kernelspec": {
      "name": "python3",
      "display_name": "Python 3"
    },
    "language_info": {
      "name": "python"
    }
  },
  "cells": [
    {
      "cell_type": "markdown",
      "source": [
        "#**Sentimen Analisis Review Instagram melalui Play Store**"
      ],
      "metadata": {
        "id": "fFtn-E2OXknN"
      }
    },
    {
      "cell_type": "markdown",
      "source": [
        "##Paulina Hambali - MC009D5X2419"
      ],
      "metadata": {
        "id": "4pKl5UjbKrLc"
      }
    },
    {
      "cell_type": "markdown",
      "source": [
        "##**Import Library**"
      ],
      "metadata": {
        "id": "s29cGSDNXkXm"
      }
    },
    {
      "cell_type": "code",
      "source": [
        "#Install google-play-scraper\n",
        "!pip install google-play-scraper"
      ],
      "metadata": {
        "colab": {
          "base_uri": "https://localhost:8080/"
        },
        "id": "X1jjUnRAYBl7",
        "outputId": "16b1c964-a6f7-470a-ea11-6b508980dd6c"
      },
      "execution_count": 1,
      "outputs": [
        {
          "output_type": "stream",
          "name": "stdout",
          "text": [
            "Collecting google-play-scraper\n",
            "  Downloading google_play_scraper-1.2.7-py3-none-any.whl.metadata (50 kB)\n",
            "\u001b[?25l     \u001b[90m━━━━━━━━━━━━━━━━━━━━━━━━━━━━━━━━━━━━━━━━\u001b[0m \u001b[32m0.0/50.2 kB\u001b[0m \u001b[31m?\u001b[0m eta \u001b[36m-:--:--\u001b[0m\r\u001b[2K     \u001b[90m━━━━━━━━━━━━━━━━━━━━━━━━━━━━━━━━━━━━━━━━\u001b[0m \u001b[32m50.2/50.2 kB\u001b[0m \u001b[31m1.3 MB/s\u001b[0m eta \u001b[36m0:00:00\u001b[0m\n",
            "\u001b[?25hDownloading google_play_scraper-1.2.7-py3-none-any.whl (28 kB)\n",
            "Installing collected packages: google-play-scraper\n",
            "Successfully installed google-play-scraper-1.2.7\n"
          ]
        }
      ]
    },
    {
      "cell_type": "code",
      "source": [
        "#Mengimpor pustaka google_play_scraper untuk mengakses ulasan dan informasi.\n",
        "from google_play_scraper import app, reviews, Sort, reviews_all"
      ],
      "metadata": {
        "id": "q8T0ltsxYJNj"
      },
      "execution_count": 2,
      "outputs": []
    },
    {
      "cell_type": "code",
      "source": [
        "#Import library read-data & csv\n",
        "import pandas as pd\n",
        "import csv"
      ],
      "metadata": {
        "id": "SYkm6UsvfzFF"
      },
      "execution_count": 3,
      "outputs": []
    },
    {
      "cell_type": "markdown",
      "source": [
        "##**Scraping Dataset**"
      ],
      "metadata": {
        "id": "dYD_tAc7Y2vb"
      }
    },
    {
      "cell_type": "code",
      "source": [
        "#Mengambil semua ulasan dari aplikasi dengan ID 'com.instagram.android' di Google Play Store.\n",
        "scrapreview = reviews_all(\n",
        "    'com.instagram.android',\n",
        "    lang='id',\n",
        "    country='id',\n",
        "    sort=Sort.MOST_RELEVANT,\n",
        "    count=10000 # maksimal sample: 10.000\n",
        ")"
      ],
      "metadata": {
        "id": "Zy7Oi13XY6TS"
      },
      "execution_count": 4,
      "outputs": []
    },
    {
      "cell_type": "code",
      "source": [
        "#Simpan ulasan csv\n",
        "df = pd.DataFrame(scrapreview)\n",
        "df.to_csv('ulasan_instagram.csv', index=False)"
      ],
      "metadata": {
        "id": "jioBl1TfY-DK"
      },
      "execution_count": 5,
      "outputs": []
    }
  ]
}